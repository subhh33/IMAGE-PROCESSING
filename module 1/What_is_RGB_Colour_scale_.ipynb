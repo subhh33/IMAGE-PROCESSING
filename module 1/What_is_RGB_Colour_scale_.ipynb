{
  "nbformat": 4,
  "nbformat_minor": 0,
  "metadata": {
    "colab": {
      "provenance": []
    },
    "kernelspec": {
      "name": "python3",
      "display_name": "Python 3"
    },
    "language_info": {
      "name": "python"
    }
  },
  "cells": [
    {
      "cell_type": "code",
      "execution_count": 2,
      "metadata": {
        "id": "lbtuOzg5DBWe"
      },
      "outputs": [],
      "source": [
        "import cv2 as cv\n",
        "\n",
        "import numpy as np\n",
        "\n",
        "import matplotlib.pyplot as plt"
      ]
    },
    {
      "cell_type": "code",
      "source": [
        "arr = np.array([[ 255 , 0 , 255,0 ] ,\n",
        " [ 0 , 255 , 0,255 ] ,\n",
        "                   [  255, 0,   255, 0],\n",
        "  [ 0 , 255 , 0 ,255]\n",
        "                ])"
      ],
      "metadata": {
        "id": "ZNOuOOGRDTQG"
      },
      "execution_count": 10,
      "outputs": []
    },
    {
      "cell_type": "code",
      "source": [
        "arr"
      ],
      "metadata": {
        "colab": {
          "base_uri": "https://localhost:8080/"
        },
        "id": "9mCYbgsrDhbF",
        "outputId": "0cbb085e-796c-4fd9-f4ae-27c8322e00a8"
      },
      "execution_count": 11,
      "outputs": [
        {
          "output_type": "execute_result",
          "data": {
            "text/plain": [
              "array([[255,   0, 255,   0],\n",
              "       [  0, 255,   0, 255],\n",
              "       [255,   0, 255,   0],\n",
              "       [  0, 255,   0, 255]])"
            ]
          },
          "metadata": {},
          "execution_count": 11
        }
      ]
    },
    {
      "cell_type": "code",
      "source": [
        "plt.imshow(arr)"
      ],
      "metadata": {
        "colab": {
          "base_uri": "https://localhost:8080/",
          "height": 453
        },
        "id": "sjC-Viy7Dhdr",
        "outputId": "9d8aa99c-32ed-4c12-a27f-d9460c1a6795"
      },
      "execution_count": 12,
      "outputs": [
        {
          "output_type": "execute_result",
          "data": {
            "text/plain": [
              "<matplotlib.image.AxesImage at 0x7a9b3a45d330>"
            ]
          },
          "metadata": {},
          "execution_count": 12
        },
        {
          "output_type": "display_data",
          "data": {
            "text/plain": [
              "<Figure size 640x480 with 1 Axes>"
            ],
            "image/png": "[encoded data removed]"
          },
          "metadata": {}
        }
      ]
    },
    {
      "cell_type": "markdown",
      "source": [
        "RGB\n",
        "BGR\n",
        "\n",
        "\n",
        "R- RED\n",
        "G- GREEN\n",
        "\n",
        "B-BLUE\n",
        "\n",
        "\n",
        "BLACK=0,0,0\n",
        "WHITE=255,255,255"
      ],
      "metadata": {
        "id": "vKY-kMUpEcSi"
      }
    },
    {
      "cell_type": "code",
      "source": [
        "arr = np.array([[ 255 , 0 , 255 ] ,\n",
        " [ 0 , 255 , 0 ] ,\n",
        "\n",
        "  [ 255 , 0 , 255 ]\n",
        "                ])\n",
        "\n",
        "plt.imshow(arr)"
      ],
      "metadata": {
        "colab": {
          "base_uri": "https://localhost:8080/",
          "height": 453
        },
        "id": "2P1zdXFvDhiX",
        "outputId": "c63833ef-48b5-4373-e722-667351a8a810"
      },
      "execution_count": 14,
      "outputs": [
        {
          "output_type": "execute_result",
          "data": {
            "text/plain": [
              "<matplotlib.image.AxesImage at 0x7a9b3a1fc340>"
            ]
          },
          "metadata": {},
          "execution_count": 14
        },
        {
          "output_type": "display_data",
          "data": {
            "text/plain": [
              "<Figure size 640x480 with 1 Axes>"
            ],
            "image/png": "[encoded data removed]"
          },
          "metadata": {}
        }
      ]
    },
    {
      "cell_type": "code",
      "source": [],
      "metadata": {
        "id": "HKQkkMRtFInN"
      },
      "execution_count": null,
      "outputs": []
    },
    {
      "cell_type": "markdown",
      "source": [
        "### **CREATING RGB IMAGE**\n"
      ],
      "metadata": {
        "id": "5-rwiStbFQ1A"
      }
    },
    {
      "cell_type": "code",
      "source": [
        "arr = np.array([[[ 0 , 0 , 0 ] , [ 255 , 255 , 255 ] ,[ 0 , 0 , 0 ]],\n",
        "                [[ 255, 255 , 255 ] , [ 0 , 0 , 0 ] ,[ 255 , 255 , 255 ]],\n",
        "                [[ 0 , 0 , 0 ] , [ 255 , 255, 255 ] ,[ 0 , 0 , 0 ]]])\n",
        "\n",
        "plt.imshow(arr)\n",
        "\n",
        "cv.imwrite('Black_WHITE.png',arr)"
      ],
      "metadata": {
        "colab": {
          "base_uri": "https://localhost:8080/",
          "height": 453
        },
        "id": "gTA92PHZFIpj",
        "outputId": "250db182-2f34-4f31-f15e-af7a8ec70d47"
      },
      "execution_count": 20,
      "outputs": [
        {
          "output_type": "execute_result",
          "data": {
            "text/plain": [
              "True"
            ]
          },
          "metadata": {},
          "execution_count": 20
        },
        {
          "output_type": "display_data",
          "data": {
            "text/plain": [
              "<Figure size 640x480 with 1 Axes>"
            ],
            "image/png": "[encoded data removed]"
          },
          "metadata": {}
        }
      ]
    },
    {
      "cell_type": "markdown",
      "source": [
        "# BLACK IMAGE"
      ],
      "metadata": {
        "id": "FlYYOfl8HSYD"
      }
    },
    {
      "cell_type": "code",
      "source": [
        "arr = np.array([[[ 0 , 0 , 0 ] , [ 0 , 0 , 0 ] ,[ 0 , 0 , 0 ]],\n",
        "                [[ 0 , 0 , 0 ] , [ 0 , 0 , 0 ] ,[ 0 , 0 , 0 ]],\n",
        "                [[ 0 , 0 , 0 ] , [ 0 , 0 , 0 ] ,[ 0 , 0 , 0 ]]])\n",
        "\n",
        "\n",
        "plt.imshow(arr)\n",
        "\n",
        "cv.imwrite('Black.png',arr)\n",
        "\n"
      ],
      "metadata": {
        "colab": {
          "base_uri": "https://localhost:8080/",
          "height": 453
        },
        "id": "FcGnER-8DTS6",
        "outputId": "81da73b8-e1d8-4358-8203-6c35928e0999"
      },
      "execution_count": 19,
      "outputs": [
        {
          "output_type": "execute_result",
          "data": {
            "text/plain": [
              "True"
            ]
          },
          "metadata": {},
          "execution_count": 19
        },
        {
          "output_type": "display_data",
          "data": {
            "text/plain": [
              "<Figure size 640x480 with 1 Axes>"
            ],
            "image/png": "[encoded data removed]"
          },
          "metadata": {}
        }
      ]
    },
    {
      "cell_type": "markdown",
      "source": [
        "## White image"
      ],
      "metadata": {
        "id": "Jk0CK5NvHXmc"
      }
    },
    {
      "cell_type": "code",
      "source": [
        "arr = np.array([[[255,255,255] , [255,255,255] ,[255,255,255]],\n",
        "                [[255,255,255] , [255,255,255] ,[255,255,255]],\n",
        "                [[255,255,255] , [255,255,255] ,[255,255,255]]])\n",
        "\n",
        "plt.imshow(arr)\n",
        "\n",
        "cv.imwrite('White.png',arr)"
      ],
      "metadata": {
        "colab": {
          "base_uri": "https://localhost:8080/",
          "height": 453
        },
        "id": "9PMEuTg2DTVh",
        "outputId": "c2ee5fb6-a33b-4999-fb31-333da67f8fdd"
      },
      "execution_count": 21,
      "outputs": [
        {
          "output_type": "execute_result",
          "data": {
            "text/plain": [
              "True"
            ]
          },
          "metadata": {},
          "execution_count": 21
        },
        {
          "output_type": "display_data",
          "data": {
            "text/plain": [
              "<Figure size 640x480 with 1 Axes>"
            ],
            "image/png": "[encoded data removed]"
          },
          "metadata": {}
        }
      ]
    },
    {
      "cell_type": "markdown",
      "source": [
        "\n",
        "3. Creating Pattern in Black and White with RGB Colour **Space**"
      ],
      "metadata": {
        "id": "atPasWb0HWoc"
      }
    },
    {
      "cell_type": "code",
      "source": [
        "\n",
        "arr = np.array([[[ 0 , 0 , 0 ] , [255,255,255] ,[ 0 , 0 , 0 ]],\n",
        "                [[255,255,255] , [ 0 , 0 , 0 ] ,[255,255,255]],\n",
        "                [[ 0 , 0 , 0 ] , [255,255,255] ,[0 , 0 , 0 ]]])\n",
        "\n",
        "plt.imshow(arr)\n",
        "\n",
        "cv.imwrite('pattern_RGB.png',arr)"
      ],
      "metadata": {
        "colab": {
          "base_uri": "https://localhost:8080/",
          "height": 453
        },
        "id": "zfkqim5pDTX5",
        "outputId": "1cba6f56-f9eb-4540-f100-040a725bd918"
      },
      "execution_count": 22,
      "outputs": [
        {
          "output_type": "execute_result",
          "data": {
            "text/plain": [
              "True"
            ]
          },
          "metadata": {},
          "execution_count": 22
        },
        {
          "output_type": "display_data",
          "data": {
            "text/plain": [
              "<Figure size 640x480 with 1 Axes>"
            ],
            "image/png": "[encoded data removed]"
          },
          "metadata": {}
        }
      ]
    },
    {
      "cell_type": "code",
      "source": [],
      "metadata": {
        "id": "JdqJdOEnDTaO"
      },
      "execution_count": null,
      "outputs": []
    },
    {
      "cell_type": "markdown",
      "source": [
        "## Creating Pattern Image with Gray Colour **Space**"
      ],
      "metadata": {
        "id": "DujZQrFbRLPo"
      }
    },
    {
      "cell_type": "code",
      "source": [
        "arr = np.array([[0  ,255, 0],\n",
        "                [255, 0 ,255],\n",
        "                [0  ,255, 0]])\n",
        "\n",
        "plt.imshow(arr)\n",
        "\n",
        "cv.imwrite('pattern_Gray.png',arr)"
      ],
      "metadata": {
        "colab": {
          "base_uri": "https://localhost:8080/",
          "height": 453
        },
        "id": "ewnUZQ_yDTd3",
        "outputId": "c9a49b49-8042-4b58-84ec-f8ed8f98f58a"
      },
      "execution_count": 23,
      "outputs": [
        {
          "output_type": "execute_result",
          "data": {
            "text/plain": [
              "True"
            ]
          },
          "metadata": {},
          "execution_count": 23
        },
        {
          "output_type": "display_data",
          "data": {
            "text/plain": [
              "<Figure size 640x480 with 1 Axes>"
            ],
            "image/png": "[encoded data removed]"
          },
          "metadata": {}
        }
      ]
    }
  ]
}