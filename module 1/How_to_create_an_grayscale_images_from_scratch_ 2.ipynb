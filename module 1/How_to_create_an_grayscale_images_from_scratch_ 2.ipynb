{
  "nbformat": 4,
  "nbformat_minor": 0,
  "metadata": {
    "colab": {
      "provenance": []
    },
    "kernelspec": {
      "name": "python3",
      "display_name": "Python 3"
    },
    "language_info": {
      "name": "python"
    }
  },
  "cells": [
    {
      "cell_type": "code",
      "execution_count": 1,
      "metadata": {
        "colab": {
          "base_uri": "https://localhost:8080/"
        },
        "id": "pzA0VJY1cEVg",
        "outputId": "c70a565f-b081-4428-8319-20cba0aa6987"
      },
      "outputs": [
        {
          "output_type": "stream",
          "name": "stdout",
          "text": [
            "Requirement already satisfied: opencv-python in /usr/local/lib/python3.10/dist-packages (4.10.0.84)\n",
            "Requirement already satisfied: numpy>=1.21.2 in /usr/local/lib/python3.10/dist-packages (from opencv-python) (1.26.4)\n"
          ]
        }
      ],
      "source": [
        "!pip install opencv-python"
      ]
    },
    {
      "cell_type": "code",
      "source": [
        "import cv2 as cv\n",
        "import numpy as np\n",
        "import matplotlib.pyplot as plt"
      ],
      "metadata": {
        "id": "6B3jBA-Rd5ox"
      },
      "execution_count": 2,
      "outputs": []
    },
    {
      "cell_type": "code",
      "source": [
        "arr=([[1,0,1,0],[0,1,0,1],[1,0,1,0],[0,1,0,1]])"
      ],
      "metadata": {
        "id": "t8T8G72Id5rT"
      },
      "execution_count": 3,
      "outputs": []
    },
    {
      "cell_type": "code",
      "source": [
        "arr"
      ],
      "metadata": {
        "colab": {
          "base_uri": "https://localhost:8080/"
        },
        "id": "bXNme19Vd5uM",
        "outputId": "23c96d78-8545-47b3-bb9b-2d5c8f7b60e2"
      },
      "execution_count": 4,
      "outputs": [
        {
          "output_type": "execute_result",
          "data": {
            "text/plain": [
              "[[1, 0, 1, 0], [0, 1, 0, 1], [1, 0, 1, 0], [0, 1, 0, 1]]"
            ]
          },
          "metadata": {},
          "execution_count": 4
        }
      ]
    },
    {
      "cell_type": "code",
      "source": [
        "plt.imshow(arr)"
      ],
      "metadata": {
        "colab": {
          "base_uri": "https://localhost:8080/",
          "height": 452
        },
        "id": "J4OVg03Ud5wP",
        "outputId": "e8f26d44-f7c7-4a36-aaed-141fcf9f3194"
      },
      "execution_count": 5,
      "outputs": [
        {
          "output_type": "execute_result",
          "data": {
            "text/plain": [
              "<matplotlib.image.AxesImage at 0x7d66144e3d30>"
            ]
          },
          "metadata": {},
          "execution_count": 5
        },
        {
          "output_type": "display_data",
          "data": {
            "text/plain": [
              "<Figure size 640x480 with 1 Axes>"
            ],
            "image/png": "[encoded data removed]"
          },
          "metadata": {}
        }
      ]
    },
    {
      "cell_type": "code",
      "source": [
        "### high pixal density images"
      ],
      "metadata": {
        "id": "VX2aj3SceYH8"
      },
      "execution_count": 6,
      "outputs": []
    },
    {
      "cell_type": "code",
      "source": [
        "img=[]\n",
        "\n",
        "for i in range(720):\n",
        "    temp=[]\n",
        "    for j in range(1280):\n",
        "        temp.append(0)\n",
        "    img.append(temp)\n",
        "img=np.array(img)\n",
        "\n"
      ],
      "metadata": {
        "id": "myJpMTTjeYKI"
      },
      "execution_count": 7,
      "outputs": []
    },
    {
      "cell_type": "code",
      "source": [
        "img"
      ],
      "metadata": {
        "colab": {
          "base_uri": "https://localhost:8080/"
        },
        "id": "5lF64xWleYMN",
        "outputId": "12f74aae-4c04-4d2e-97d9-78100e1ebbe8"
      },
      "execution_count": 8,
      "outputs": [
        {
          "output_type": "execute_result",
          "data": {
            "text/plain": [
              "array([[0, 0, 0, ..., 0, 0, 0],\n",
              "       [0, 0, 0, ..., 0, 0, 0],\n",
              "       [0, 0, 0, ..., 0, 0, 0],\n",
              "       ...,\n",
              "       [0, 0, 0, ..., 0, 0, 0],\n",
              "       [0, 0, 0, ..., 0, 0, 0],\n",
              "       [0, 0, 0, ..., 0, 0, 0]])"
            ]
          },
          "metadata": {},
          "execution_count": 8
        }
      ]
    },
    {
      "cell_type": "code",
      "source": [
        "img.shape"
      ],
      "metadata": {
        "colab": {
          "base_uri": "https://localhost:8080/"
        },
        "id": "f4nKW_A6eYOB",
        "outputId": "87b99358-2bf2-4445-a23b-68f0794b930d"
      },
      "execution_count": 9,
      "outputs": [
        {
          "output_type": "execute_result",
          "data": {
            "text/plain": [
              "(720, 1280)"
            ]
          },
          "metadata": {},
          "execution_count": 9
        }
      ]
    },
    {
      "cell_type": "code",
      "source": [
        "plt.imshow(img)"
      ],
      "metadata": {
        "colab": {
          "base_uri": "https://localhost:8080/",
          "height": 362
        },
        "id": "_d0wZJB-eYQq",
        "outputId": "a14e8bf6-f632-4b61-91e3-fb4400f905c2"
      },
      "execution_count": 20,
      "outputs": [
        {
          "output_type": "execute_result",
          "data": {
            "text/plain": [
              "<matplotlib.image.AxesImage at 0x7d661049f4f0>"
            ]
          },
          "metadata": {},
          "execution_count": 20
        },
        {
          "output_type": "display_data",
          "data": {
            "text/plain": [
              "<Figure size 640x480 with 1 Axes>"
            ],
            "image/png": "[encoded data removed]"
          },
          "metadata": {}
        }
      ]
    },
    {
      "cell_type": "code",
      "source": [
        "img2=[]\n",
        "\n",
        "for i in range(720):\n",
        "    temp=[]\n",
        "    for j in range(1280):\n",
        "        temp.append(1)\n",
        "    img2.append(temp)\n",
        "img=np.array(img2)\n",
        ""
      ],
      "metadata": {
        "id": "7R9lm1iTeYSN"
      },
      "execution_count": 21,
      "outputs": []
    },
    {
      "cell_type": "code",
      "source": [
        "plt.imshow(img2)"
      ],
      "metadata": {
        "colab": {
          "base_uri": "https://localhost:8080/",
          "height": 362
        },
        "id": "jHdpaDst5bjJ",
        "outputId": "0c165985-b0be-4dd7-bb3d-355dc66831a7"
      },
      "execution_count": 22,
      "outputs": [
        {
          "output_type": "execute_result",
          "data": {
            "text/plain": [
              "<matplotlib.image.AxesImage at 0x7d6610278fa0>"
            ]
          },
          "metadata": {},
          "execution_count": 22
        },
        {
          "output_type": "display_data",
          "data": {
            "text/plain": [
              "<Figure size 640x480 with 1 Axes>"
            ],
            "image/png": "[encoded data removed]"
          },
          "metadata": {}
        }
      ]
    },
    {
      "cell_type": "markdown",
      "source": [],
      "metadata": {
        "id": "AcFvKAmI53JB"
      }
    },
    {
      "cell_type": "markdown",
      "source": [
        "EXPORTING THE IMAGE"
      ],
      "metadata": {
        "id": "2HLCxZ-Iemg6"
      }
    },
    {
      "cell_type": "code",
      "source": [
        "cv.imwrite('img.png',img)"
      ],
      "metadata": {
        "colab": {
          "base_uri": "https://localhost:8080/"
        },
        "id": "-_Cg4BTAl_3r",
        "outputId": "82d2e991-60b2-4a1f-8066-84063808af34"
      },
      "execution_count": 19,
      "outputs": [
        {
          "output_type": "execute_result",
          "data": {
            "text/plain": [
              "True"
            ]
          },
          "metadata": {},
          "execution_count": 19
        }
      ]
    },
    {
      "cell_type": "code",
      "source": [
        "from google.colab import drive\n",
        "drive.mount('/content/drive')"
      ],
      "metadata": {
        "id": "S9tl40_R5Ecj"
      },
      "execution_count": null,
      "outputs": []
    },
    {
      "cell_type": "code",
      "source": [
        "arr=np.array([[1,0,1,0],[0,1,0,1],[1,0,1,0],[0,1,0,1]])\n",
        "\n",
        "plt.imshow(arr)"
      ],
      "metadata": {
        "colab": {
          "base_uri": "https://localhost:8080/",
          "height": 452
        },
        "id": "C4596sX_65O-",
        "outputId": "cf106b8c-f31a-412b-8ad7-ce929a05f018"
      },
      "execution_count": 32,
      "outputs": [
        {
          "output_type": "execute_result",
          "data": {
            "text/plain": [
              "<matplotlib.image.AxesImage at 0x7d661048be50>"
            ]
          },
          "metadata": {},
          "execution_count": 32
        },
        {
          "output_type": "display_data",
          "data": {
            "text/plain": [
              "<Figure size 640x480 with 1 Axes>"
            ],
            "image/png": "[encoded data removed]"
          },
          "metadata": {}
        }
      ]
    },
    {
      "cell_type": "code",
      "source": [
        "cv.imwrite('temp.png',arr)"
      ],
      "metadata": {
        "colab": {
          "base_uri": "https://localhost:8080/"
        },
        "id": "vYXxs5ny7AGT",
        "outputId": "16467dc7-a54d-4820-b68a-7d9407ff7c49"
      },
      "execution_count": 34,
      "outputs": [
        {
          "output_type": "execute_result",
          "data": {
            "text/plain": [
              "True"
            ]
          },
          "metadata": {},
          "execution_count": 34
        }
      ]
    },
    {
      "cell_type": "markdown",
      "source": [
        "white png image created\n"
      ],
      "metadata": {
        "id": "lnLNMq9v9N3-"
      }
    },
    {
      "cell_type": "code",
      "source": [
        "img=[]\n",
        "\n",
        "for i in range(720):\n",
        "    temp=[]\n",
        "    for j in range(1280):\n",
        "        temp.append(255)\n",
        "    img.append(temp)\n",
        "img=np.array(img)\n",
        ""
      ],
      "metadata": {
        "id": "plPmwJEz7AMi"
      },
      "execution_count": 37,
      "outputs": []
    },
    {
      "cell_type": "code",
      "source": [
        "plt.imshow(img)"
      ],
      "metadata": {
        "colab": {
          "base_uri": "https://localhost:8080/",
          "height": 362
        },
        "id": "S4XVFIp88sqQ",
        "outputId": "fa75652d-2cc4-4e14-96cb-6c724ac77dca"
      },
      "execution_count": 39,
      "outputs": [
        {
          "output_type": "execute_result",
          "data": {
            "text/plain": [
              "<matplotlib.image.AxesImage at 0x7d661048bfa0>"
            ]
          },
          "metadata": {},
          "execution_count": 39
        },
        {
          "output_type": "display_data",
          "data": {
            "text/plain": [
              "<Figure size 640x480 with 1 Axes>"
            ],
            "image/png": "[encoded data removed]"
          },
          "metadata": {}
        }
      ]
    },
    {
      "cell_type": "code",
      "source": [
        "cv.imwrite('white.png',img)"
      ],
      "metadata": {
        "colab": {
          "base_uri": "https://localhost:8080/"
        },
        "id": "hlrbs6ws7AO3",
        "outputId": "3e4789f5-6cf9-4732-9c05-3353824b66dc"
      },
      "execution_count": 42,
      "outputs": [
        {
          "output_type": "execute_result",
          "data": {
            "text/plain": [
              "True"
            ]
          },
          "metadata": {},
          "execution_count": 42
        }
      ]
    },
    {
      "cell_type": "code",
      "source": [],
      "metadata": {
        "id": "Ndp7tEt27AQ7"
      },
      "execution_count": null,
      "outputs": []
    },
    {
      "cell_type": "markdown",
      "source": [
        "Black png image"
      ],
      "metadata": {
        "id": "Dxaok-AZ9VoE"
      }
    },
    {
      "cell_type": "markdown",
      "source": [],
      "metadata": {
        "id": "nDQy2Up99Taq"
      }
    },
    {
      "cell_type": "code",
      "source": [
        "img=[]\n",
        "\n",
        "for i in range(720):\n",
        "    temp=[]\n",
        "    for j in range(1280):\n",
        "        temp.append(50)\n",
        "    img.append(temp)\n",
        "img=np.array(img)\n",
        ""
      ],
      "metadata": {
        "id": "e-h7n-m67ATB"
      },
      "execution_count": 45,
      "outputs": []
    },
    {
      "cell_type": "code",
      "source": [
        "plt.imshow(img)"
      ],
      "metadata": {
        "colab": {
          "base_uri": "https://localhost:8080/",
          "height": 362
        },
        "id": "mDpc5XjD7AVW",
        "outputId": "95f2a5de-5855-40c0-a5e6-3aff2ddb8436"
      },
      "execution_count": 47,
      "outputs": [
        {
          "output_type": "execute_result",
          "data": {
            "text/plain": [
              "<matplotlib.image.AxesImage at 0x7d66056bc970>"
            ]
          },
          "metadata": {},
          "execution_count": 47
        },
        {
          "output_type": "display_data",
          "data": {
            "text/plain": [
              "<Figure size 640x480 with 1 Axes>"
            ],
            "image/png": "[encoded data removed]"
          },
          "metadata": {}
        }
      ]
    },
    {
      "cell_type": "code",
      "source": [],
      "metadata": {
        "id": "gaI8tua398js"
      },
      "execution_count": null,
      "outputs": []
    },
    {
      "cell_type": "code",
      "source": [],
      "metadata": {
        "id": "dwFvhG3M980p"
      },
      "execution_count": null,
      "outputs": []
    },
    {
      "cell_type": "code",
      "source": [
        "cv.imwrite('black.png',img)"
      ],
      "metadata": {
        "colab": {
          "base_uri": "https://localhost:8080/"
        },
        "id": "li58f8FQ7AXh",
        "outputId": "6dd4aa23-0f02-4527-930d-2edc72d1f559"
      },
      "execution_count": 49,
      "outputs": [
        {
          "output_type": "execute_result",
          "data": {
            "text/plain": [
              "True"
            ]
          },
          "metadata": {},
          "execution_count": 49
        }
      ]
    },
    {
      "cell_type": "markdown",
      "source": [
        "now gray image"
      ],
      "metadata": {
        "id": "4DOPp0np9-2S"
      }
    },
    {
      "cell_type": "code",
      "source": [
        "img=[]\n",
        "\n",
        "for i in range(720):\n",
        "    temp=[]\n",
        "    for j in range(1280):\n",
        "        temp.append(100)\n",
        "    img.append(temp)\n",
        "img=np.array(img)\n",
        ""
      ],
      "metadata": {
        "id": "I7DP0x0Z-Bie"
      },
      "execution_count": 61,
      "outputs": []
    },
    {
      "cell_type": "code",
      "source": [],
      "metadata": {
        "id": "CQ9kgLya_p44"
      },
      "execution_count": null,
      "outputs": []
    },
    {
      "cell_type": "code",
      "source": [
        "plt.imshow(img)"
      ],
      "metadata": {
        "colab": {
          "base_uri": "https://localhost:8080/",
          "height": 362
        },
        "id": "ZOsYFi_C-FIJ",
        "outputId": "3d69d516-e3ca-4ada-8582-b2191f0a7f8f"
      },
      "execution_count": 62,
      "outputs": [
        {
          "output_type": "execute_result",
          "data": {
            "text/plain": [
              "<matplotlib.image.AxesImage at 0x7d66056576d0>"
            ]
          },
          "metadata": {},
          "execution_count": 62
        },
        {
          "output_type": "display_data",
          "data": {
            "text/plain": [
              "<Figure size 640x480 with 1 Axes>"
            ],
            "image/png": "[encoded data removed]"
          },
          "metadata": {}
        }
      ]
    },
    {
      "cell_type": "code",
      "source": [
        "cv.imwrite('gray.png',img)"
      ],
      "metadata": {
        "colab": {
          "base_uri": "https://localhost:8080/"
        },
        "id": "xYM0EdgR_UjU",
        "outputId": "db311fbe-83b0-4cf3-a331-c1bfd6d5e9f0"
      },
      "execution_count": 64,
      "outputs": [
        {
          "output_type": "execute_result",
          "data": {
            "text/plain": [
              "True"
            ]
          },
          "metadata": {},
          "execution_count": 64
        }
      ]
    },
    {
      "cell_type": "code",
      "source": [],
      "metadata": {
        "id": "IvKghBUQ_qhh"
      },
      "execution_count": null,
      "outputs": []
    },
    {
      "cell_type": "markdown",
      "source": [
        "lighter gray"
      ],
      "metadata": {
        "id": "p1ckszn3_rQ6"
      }
    },
    {
      "cell_type": "code",
      "source": [
        "img=[]\n",
        "\n",
        "for i in range(720):\n",
        "    temp=[]\n",
        "    for j in range(1280):\n",
        "        temp.append(200)\n",
        "    img.append(temp)\n",
        "img=np.array(img)\n",
        ""
      ],
      "metadata": {
        "id": "sXir26Pa_qjo"
      },
      "execution_count": 65,
      "outputs": []
    },
    {
      "cell_type": "code",
      "source": [
        "cv.imwrite('gray1.png',img)"
      ],
      "metadata": {
        "colab": {
          "base_uri": "https://localhost:8080/"
        },
        "id": "76-dHX2P_qlr",
        "outputId": "3569064f-6b3a-4143-9562-0ba48752a527"
      },
      "execution_count": 66,
      "outputs": [
        {
          "output_type": "execute_result",
          "data": {
            "text/plain": [
              "True"
            ]
          },
          "metadata": {},
          "execution_count": 66
        }
      ]
    },
    {
      "cell_type": "code",
      "source": [],
      "metadata": {
        "id": "iGERKoTa_qnf"
      },
      "execution_count": null,
      "outputs": []
    },
    {
      "cell_type": "markdown",
      "source": [
        "DARKER GRAY\n",
        "\n",
        "\n",
        "lesser the value more darker colour image show max 255 white colour"
      ],
      "metadata": {
        "id": "e1l6-Zmq_6aM"
      }
    },
    {
      "cell_type": "markdown",
      "source": [],
      "metadata": {
        "id": "YkEvuNP0_5x1"
      }
    },
    {
      "cell_type": "code",
      "source": [
        "img=[]\n",
        "\n",
        "for i in range(720):\n",
        "    temp=[]\n",
        "    for j in range(1280):\n",
        "        temp.append(50)\n",
        "    img.append(temp)\n",
        "img=np.array(img)"
      ],
      "metadata": {
        "id": "5BwxY0Ns_qpk"
      },
      "execution_count": 68,
      "outputs": []
    },
    {
      "cell_type": "code",
      "source": [
        "cv.imwrite('gray2.png',img)"
      ],
      "metadata": {
        "colab": {
          "base_uri": "https://localhost:8080/"
        },
        "id": "Ev5-zo1t_qr7",
        "outputId": "d9f1afd0-905f-430f-b9f2-79d9239fbd64"
      },
      "execution_count": 69,
      "outputs": [
        {
          "output_type": "execute_result",
          "data": {
            "text/plain": [
              "True"
            ]
          },
          "metadata": {},
          "execution_count": 69
        }
      ]
    },
    {
      "cell_type": "markdown",
      "source": [],
      "metadata": {
        "id": "mUQZZLngAmt2"
      }
    },
    {
      "cell_type": "code",
      "source": [
        "arr=np.array([\n",
        "[0,0,0,0],\n",
        " [20,20,20,20],\n",
        "  [40,40,40,40],\n",
        "   [60,60,60,60]])\n",
        "\n",
        "\n",
        "\n",
        "\n",
        "\n",
        "\n",
        "\n",
        "plt.imshow(arr)"
      ],
      "metadata": {
        "colab": {
          "base_uri": "https://localhost:8080/",
          "height": 452
        },
        "id": "b3N-Z4qk_quA",
        "outputId": "5f9dbec8-be17-4bcb-b918-affd825c1e4c"
      },
      "execution_count": 70,
      "outputs": [
        {
          "output_type": "execute_result",
          "data": {
            "text/plain": [
              "<matplotlib.image.AxesImage at 0x7d660544e140>"
            ]
          },
          "metadata": {},
          "execution_count": 70
        },
        {
          "output_type": "display_data",
          "data": {
            "text/plain": [
              "<Figure size 640x480 with 1 Axes>"
            ],
            "image/png": "[encoded data removed]"
          },
          "metadata": {}
        }
      ]
    },
    {
      "cell_type": "code",
      "source": [],
      "metadata": {
        "id": "eHK28ZkJGq2i"
      },
      "execution_count": null,
      "outputs": []
    },
    {
      "cell_type": "code",
      "source": [
        "cv.imwrite('5shades.png',arr)"
      ],
      "metadata": {
        "colab": {
          "base_uri": "https://localhost:8080/"
        },
        "id": "70DGiLkaDs5V",
        "outputId": "14b21563-36f1-4034-9296-2520477426cf"
      },
      "execution_count": 76,
      "outputs": [
        {
          "output_type": "execute_result",
          "data": {
            "text/plain": [
              "True"
            ]
          },
          "metadata": {},
          "execution_count": 76
        }
      ]
    },
    {
      "cell_type": "code",
      "source": [],
      "metadata": {
        "id": "fQSDDoMSEe01"
      },
      "execution_count": null,
      "outputs": []
    },
    {
      "cell_type": "code",
      "source": [
        "arr=np.array([\n",
        "[25,25,25,25],\n",
        " [50,50,50,50],\n",
        "  [75,75,75,75],\n",
        "   [100,100,100,100],\n",
        "    [125,125,125,125],\n",
        "     [150,150,150,150],\n",
        "       [175,175,175,175],\n",
        "         [200,200,200,200],\n",
        "          [225,225,225,225],\n",
        "            [250,250,250,250] ])\n",
        "\n",
        "\n",
        "\n",
        "\n",
        "\n",
        "\n",
        "\n",
        "plt.imshow(arr)"
      ],
      "metadata": {
        "colab": {
          "base_uri": "https://localhost:8080/",
          "height": 447
        },
        "id": "fzHYwJAvClCb",
        "outputId": "631e02dd-c03a-4d7e-a2dd-6c639ff3d125"
      },
      "execution_count": 71,
      "outputs": [
        {
          "output_type": "execute_result",
          "data": {
            "text/plain": [
              "<matplotlib.image.AxesImage at 0x7d660562ca60>"
            ]
          },
          "metadata": {},
          "execution_count": 71
        },
        {
          "output_type": "display_data",
          "data": {
            "text/plain": [
              "<Figure size 640x480 with 1 Axes>"
            ],
            "image/png": "[encoded data removed]"
          },
          "metadata": {}
        }
      ]
    },
    {
      "cell_type": "markdown",
      "source": [],
      "metadata": {
        "id": "_malbvEFD4Aw"
      }
    },
    {
      "cell_type": "code",
      "source": [
        "cv.imwrite('10shadessss.png',arr)"
      ],
      "metadata": {
        "colab": {
          "base_uri": "https://localhost:8080/"
        },
        "id": "FKLnmdYPD5SS",
        "outputId": "af6de4e1-5287-4422-8405-56ec1744a9f5"
      },
      "execution_count": 75,
      "outputs": [
        {
          "output_type": "execute_result",
          "data": {
            "text/plain": [
              "True"
            ]
          },
          "metadata": {},
          "execution_count": 75
        }
      ]
    },
    {
      "cell_type": "code",
      "source": [
        "lst=[]\n",
        "\n",
        "for i in range(256):\n",
        "    temp=[]\n",
        "    for j in range(1280):\n",
        "        temp.append(0)\n",
        "\n",
        "    lst.append(temp)\n",
        "lst=np.array(lst)\n",
        "lst.shape"
      ],
      "metadata": {
        "colab": {
          "base_uri": "https://localhost:8080/"
        },
        "id": "Qk44U7_JEfhX",
        "outputId": "24005e53-a3e0-4e37-dbfd-207ac8de2ba2"
      },
      "execution_count": 79,
      "outputs": [
        {
          "output_type": "execute_result",
          "data": {
            "text/plain": [
              "(256, 1280)"
            ]
          },
          "metadata": {},
          "execution_count": 79
        }
      ]
    },
    {
      "cell_type": "code",
      "source": [
        "cv.imwrite('black.png',lst)"
      ],
      "metadata": {
        "colab": {
          "base_uri": "https://localhost:8080/"
        },
        "id": "X0lOwKEGEfj8",
        "outputId": "e6107f0e-1625-4bb6-d195-d6108d7237f2"
      },
      "execution_count": 80,
      "outputs": [
        {
          "output_type": "execute_result",
          "data": {
            "text/plain": [
              "True"
            ]
          },
          "metadata": {},
          "execution_count": 80
        }
      ]
    },
    {
      "cell_type": "code",
      "source": [
        "lst=[]\n",
        "\n",
        "for i in range(256):\n",
        "    temp=[]\n",
        "    for j in range(256):\n",
        "        temp.append(i)\n",
        "\n",
        "    lst.append(temp)\n",
        "lst=np.array(lst)\n",
        "lst.shape"
      ],
      "metadata": {
        "colab": {
          "base_uri": "https://localhost:8080/"
        },
        "id": "uBY6bG0jEfmR",
        "outputId": "4f3db2ac-4d8b-40de-d38b-f5d4ec934ad1"
      },
      "execution_count": 84,
      "outputs": [
        {
          "output_type": "execute_result",
          "data": {
            "text/plain": [
              "(256, 256)"
            ]
          },
          "metadata": {},
          "execution_count": 84
        }
      ]
    },
    {
      "cell_type": "code",
      "source": [
        "lst"
      ],
      "metadata": {
        "colab": {
          "base_uri": "https://localhost:8080/"
        },
        "id": "Ir_U5KIvEfom",
        "outputId": "58c57987-44f2-4ee0-935e-e954e51f9642"
      },
      "execution_count": 85,
      "outputs": [
        {
          "output_type": "execute_result",
          "data": {
            "text/plain": [
              "array([[  0,   0,   0, ...,   0,   0,   0],\n",
              "       [  1,   1,   1, ...,   1,   1,   1],\n",
              "       [  2,   2,   2, ...,   2,   2,   2],\n",
              "       ...,\n",
              "       [253, 253, 253, ..., 253, 253, 253],\n",
              "       [254, 254, 254, ..., 254, 254, 254],\n",
              "       [255, 255, 255, ..., 255, 255, 255]])"
            ]
          },
          "metadata": {},
          "execution_count": 85
        }
      ]
    },
    {
      "cell_type": "code",
      "source": [
        "cv.imwrite('shades.png',lst)"
      ],
      "metadata": {
        "colab": {
          "base_uri": "https://localhost:8080/"
        },
        "id": "RxJL3e4LEftD",
        "outputId": "b71287c9-3151-48fe-fe06-488120d95fa1"
      },
      "execution_count": 86,
      "outputs": [
        {
          "output_type": "execute_result",
          "data": {
            "text/plain": [
              "True"
            ]
          },
          "metadata": {},
          "execution_count": 86
        }
      ]
    },
    {
      "cell_type": "code",
      "source": [
        "arr=np.array([\n",
        "[0,20,40,60],\n",
        " [80,100,120,140],\n",
        "  [160,180,200,220],\n",
        "   [230,240,250,255]])\n",
        "\n",
        "\n",
        "\n",
        "\n",
        "\n",
        "\n",
        "\n",
        "plt.imshow(arr)"
      ],
      "metadata": {
        "colab": {
          "base_uri": "https://localhost:8080/",
          "height": 452
        },
        "id": "4QEG9b7uGrtQ",
        "outputId": "93bff126-f38b-40f2-cd0f-223e9effd41c"
      },
      "execution_count": 90,
      "outputs": [
        {
          "output_type": "execute_result",
          "data": {
            "text/plain": [
              "<matplotlib.image.AxesImage at 0x7d66053cef50>"
            ]
          },
          "metadata": {},
          "execution_count": 90
        },
        {
          "output_type": "display_data",
          "data": {
            "text/plain": [
              "<Figure size 640x480 with 1 Axes>"
            ],
            "image/png": "[encoded data removed]"
          },
          "metadata": {}
        }
      ]
    }
  ]
}